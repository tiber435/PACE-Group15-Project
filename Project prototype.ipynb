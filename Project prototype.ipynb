{
 "cells": [
  {
   "cell_type": "markdown",
   "id": "a768994e-7231-460a-99b1-db44417de716",
   "metadata": {},
   "source": [
    "## **install transformer + dependencies**\n",
    "using steps from https://huggingface.co/docs/transformers/installation\n",
    "\n",
    "This may take several minutes to run\n",
    "\n",
    "##### **Using anaconda prompt, run the following commands to install pytorch:**\n",
    "\n",
    "conda create --name pytorch_env \\\n",
    "conda activate pytorch_env \\\n",
    "conda install pytorch torchvision cpuonly -c pytorch \n",
    "\n",
    "Check installation by running: python -c \"import torch; print(torch.__version__)\"\n",
    "\n",
    "If you would like to confirm again: run the following command in a jupyter cell:\n",
    "!conda info --envs\n",
    "\n",
    "##### **Using anaconda prompt, run the following commands to install a virtual environment:**\n",
    "In your project directory:\n",
    "python -m venv .env \n",
    "\n",
    "**activate the virtual environment**\n",
    "*below is the command for windows* \\\n",
    ".env\\Scripts\\activate.bat\n",
    "\n",
    "\n"
   ]
  },
  {
   "cell_type": "code",
   "execution_count": 38,
   "id": "97d86534-9517-45c4-a33a-70ed3d80013e",
   "metadata": {},
   "outputs": [],
   "source": [
    "import torch"
   ]
  },
  {
   "cell_type": "code",
   "execution_count": 41,
   "id": "40173cb4-8379-41ab-8d66-3c5db376ac31",
   "metadata": {},
   "outputs": [
    {
     "name": "stdout",
     "output_type": "stream",
     "text": [
      "Channels:\n",
      " - defaults\n",
      " - conda-forge\n",
      " - pytorch\n",
      "Platform: win-64\n",
      "Collecting package metadata (repodata.json): ...working... done\n",
      "Solving environment: ...working... done\n",
      "\n",
      "# All requested packages already installed.\n",
      "\n"
     ]
    }
   ],
   "source": [
    "#### **install transformers** ####\n",
    "!conda install conda-forge::transformers"
   ]
  },
  {
   "cell_type": "code",
   "execution_count": 1,
   "id": "6cdf4293-2388-4ebb-b10b-1025389854b7",
   "metadata": {},
   "outputs": [
    {
     "name": "stdout",
     "output_type": "stream",
     "text": [
      "[{'label': 'POSITIVE', 'score': 0.9998704195022583}]\n"
     ]
    },
    {
     "name": "stderr",
     "output_type": "stream",
     "text": [
      "No model was supplied, defaulted to distilbert/distilbert-base-uncased-finetuned-sst-2-english and revision af0f99b (https://huggingface.co/distilbert/distilbert-base-uncased-finetuned-sst-2-english).\n",
      "Using a pipeline without specifying a model name and revision in production is not recommended.\n"
     ]
    }
   ],
   "source": [
    "#to check installation, run:\n",
    "!python -c \"from transformers import pipeline; print(pipeline('sentiment-analysis')('we love you'))\"\n"
   ]
  },
  {
   "cell_type": "code",
   "execution_count": 11,
   "id": "7d13f11f-e1ac-45eb-a25e-99acd839b82c",
   "metadata": {},
   "outputs": [],
   "source": [
    "from transformers import BertConfig, BertModel\n",
    "\n",
    "# Download model and configuration from huggingface.co and cache.\n",
    "#model = BertModel.from_pretrained(\"google-bert/bert-base-uncased\")\n",
    "\n",
    "# Update configuration during loading.\n",
    "model = BertModel.from_pretrained(\"google-bert/bert-base-uncased\", output_attentions=True)\n",
    "assert model.config.output_attentions == True\n",
    "\n"
   ]
  },
  {
   "cell_type": "markdown",
   "id": "b4d0af0b-0cda-46ce-aff1-96ce91d07118",
   "metadata": {},
   "source": [
    " error handling:\n",
    "if you get this: DLL load failed while importing _C: The specified module could not be found.\n",
    "\n",
    "\n",
    "use this:\n",
    "pip install intel-openmp mkl "
   ]
  },
  {
   "cell_type": "markdown",
   "id": "31095588-eb0b-46e8-ab43-a2b8ed76971f",
   "metadata": {},
   "source": [
    "finetune a pretrained model https://huggingface.co/docs/transformers/training\n",
    "https://huggingface.co/docs/transformers/v4.39.3/en/main_classes/trainer#transformers.Trainer\n",
    "     "
   ]
  }
 ],
 "metadata": {
  "kernelspec": {
   "display_name": "Python 3 (ipykernel)",
   "language": "python",
   "name": "python3"
  },
  "language_info": {
   "codemirror_mode": {
    "name": "ipython",
    "version": 3
   },
   "file_extension": ".py",
   "mimetype": "text/x-python",
   "name": "python",
   "nbconvert_exporter": "python",
   "pygments_lexer": "ipython3",
   "version": "3.11.7"
  }
 },
 "nbformat": 4,
 "nbformat_minor": 5
}
