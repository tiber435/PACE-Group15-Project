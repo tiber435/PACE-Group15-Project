{
 "cells": [
  {
   "cell_type": "markdown",
   "id": "a768994e-7231-460a-99b1-db44417de716",
   "metadata": {},
   "source": [
    "### **install transformer + dependencies**\n",
    "https://huggingface.co/docs/transformers/installation\n",
    "\n",
    "to install, in anaconda prompt run: conda install conda-forge::transformers\n",
    "this may take several minutes"
   ]
  },
  {
   "cell_type": "markdown",
   "id": "6c0d5332-ce72-42ce-be93-1028aeb5ec1c",
   "metadata": {},
   "source": [
    "then, using pipeline https://huggingface.co/docs/transformers/pipeline_tutorial\n",
    "\n"
   ]
  },
  {
   "cell_type": "markdown",
   "id": "31095588-eb0b-46e8-ab43-a2b8ed76971f",
   "metadata": {},
   "source": [
    "finetune a pretrained model https://huggingface.co/docs/transformers/training\n",
    "https://huggingface.co/docs/transformers/v4.39.3/en/main_classes/trainer#transformers.Trainer\n",
    "     "
   ]
  }
 ],
 "metadata": {
  "kernelspec": {
   "display_name": "Python 3 (ipykernel)",
   "language": "python",
   "name": "python3"
  },
  "language_info": {
   "codemirror_mode": {
    "name": "ipython",
    "version": 3
   },
   "file_extension": ".py",
   "mimetype": "text/x-python",
   "name": "python",
   "nbconvert_exporter": "python",
   "pygments_lexer": "ipython3",
   "version": "3.11.7"
  }
 },
 "nbformat": 4,
 "nbformat_minor": 5
}
